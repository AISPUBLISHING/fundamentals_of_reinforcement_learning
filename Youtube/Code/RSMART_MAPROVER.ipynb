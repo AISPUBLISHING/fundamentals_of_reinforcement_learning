{
 "cells": [
  {
   "cell_type": "code",
   "execution_count": 1,
   "metadata": {},
   "outputs": [],
   "source": [
    "import numpy as np"
   ]
  },
  {
   "cell_type": "code",
   "execution_count": 2,
   "metadata": {},
   "outputs": [],
   "source": [
    "Q = np.empty((9,9))\n",
    "Q[:] = np.nan"
   ]
  },
  {
   "cell_type": "code",
   "execution_count": 3,
   "metadata": {},
   "outputs": [
    {
     "data": {
      "text/plain": [
       "array([[nan, nan, nan, nan, nan, nan, nan, nan, nan],\n",
       "       [nan, nan, nan, nan, nan, nan, nan, nan, nan],\n",
       "       [nan, nan, nan, nan, nan, nan, nan, nan, nan],\n",
       "       [nan, nan, nan, nan, nan, nan, nan, nan, nan],\n",
       "       [nan, nan, nan, nan, nan, nan, nan, nan, nan],\n",
       "       [nan, nan, nan, nan, nan, nan, nan, nan, nan],\n",
       "       [nan, nan, nan, nan, nan, nan, nan, nan, nan],\n",
       "       [nan, nan, nan, nan, nan, nan, nan, nan, nan],\n",
       "       [nan, nan, nan, nan, nan, nan, nan, nan, nan]])"
      ]
     },
     "execution_count": 3,
     "metadata": {},
     "output_type": "execute_result"
    }
   ],
   "source": [
    "Q"
   ]
  },
  {
   "cell_type": "code",
   "execution_count": 4,
   "metadata": {},
   "outputs": [],
   "source": [
    "Q[0,[0,1,3]] = 0\n",
    "Q[1,[0,1,2,4]] = 0\n",
    "Q[2,[1,2,5]] = 0\n",
    "Q[3,[0,3,4]] = 0\n",
    "Q[4,[1,3,4,5,7]] = 0\n",
    "Q[5,[2,4,5,8]] = 0\n",
    "Q[6,[3,6,7]] = 0\n",
    "Q[7,[4,6,7,8]] = 0\n",
    "Q[8,[5,7,8]] = 0"
   ]
  },
  {
   "cell_type": "code",
   "execution_count": 5,
   "metadata": {},
   "outputs": [
    {
     "data": {
      "text/plain": [
       "array([[ 0.,  0., nan,  0., nan, nan, nan, nan, nan],\n",
       "       [ 0.,  0.,  0., nan,  0., nan, nan, nan, nan],\n",
       "       [nan,  0.,  0., nan, nan,  0., nan, nan, nan],\n",
       "       [ 0., nan, nan,  0.,  0., nan, nan, nan, nan],\n",
       "       [nan,  0., nan,  0.,  0.,  0., nan,  0., nan],\n",
       "       [nan, nan,  0., nan,  0.,  0., nan, nan,  0.],\n",
       "       [nan, nan, nan,  0., nan, nan,  0.,  0., nan],\n",
       "       [nan, nan, nan, nan,  0., nan,  0.,  0.,  0.],\n",
       "       [nan, nan, nan, nan, nan,  0., nan,  0.,  0.]])"
      ]
     },
     "execution_count": 5,
     "metadata": {},
     "output_type": "execute_result"
    }
   ],
   "source": [
    "Q"
   ]
  },
  {
   "cell_type": "code",
   "execution_count": 6,
   "metadata": {},
   "outputs": [],
   "source": [
    "R = Q\n",
    "idx = np.isnan(R[:,4])\n",
    "R[~idx,4] = -1\n",
    "idx = np.isnan(R[:,8])\n",
    "R[~idx,8] = 1"
   ]
  },
  {
   "cell_type": "code",
   "execution_count": 7,
   "metadata": {},
   "outputs": [
    {
     "data": {
      "text/plain": [
       "array([[ 0.,  0., nan,  0., nan, nan, nan, nan, nan],\n",
       "       [ 0.,  0.,  0., nan, -1., nan, nan, nan, nan],\n",
       "       [nan,  0.,  0., nan, nan,  0., nan, nan, nan],\n",
       "       [ 0., nan, nan,  0., -1., nan, nan, nan, nan],\n",
       "       [nan,  0., nan,  0., -1.,  0., nan,  0., nan],\n",
       "       [nan, nan,  0., nan, -1.,  0., nan, nan,  1.],\n",
       "       [nan, nan, nan,  0., nan, nan,  0.,  0., nan],\n",
       "       [nan, nan, nan, nan, -1., nan,  0.,  0.,  1.],\n",
       "       [nan, nan, nan, nan, nan,  0., nan,  0.,  1.]])"
      ]
     },
     "execution_count": 7,
     "metadata": {},
     "output_type": "execute_result"
    }
   ],
   "source": [
    "R"
   ]
  },
  {
   "cell_type": "code",
   "execution_count": 8,
   "metadata": {},
   "outputs": [],
   "source": [
    "MAXITER = 1000\n",
    "NUMSTATES = 9\n",
    "eta = 0.99\n",
    "for k in range(MAXITER):\n",
    "    alpha = 1/(k+1)\n",
    "    Q2 = Q.copy()\n",
    "    pk = 1 - (10/(20+k))\n",
    "    selectMax = False\n",
    "    if np.random.rand()<pk:\n",
    "        selectMax = True\n",
    "    for i in range(NUMSTATES):\n",
    "        idx = np.isnan(R[i,:])\n",
    "        allowedStates = np.arange(NUMSTATES)[~idx]\n",
    "        j = Q[i,allowedStates].argmax()\n",
    "        if selectMax:\n",
    "            j = allowedStates[j]\n",
    "        else:\n",
    "            allowedStates = np.delete(allowedStates,j)\n",
    "            j = np.random.permutation(allowedStates)[0]\n",
    "        Q2[i,j] = (1-alpha**k)*Q[i,j]+(alpha**k)*(R[i,j]+eta*np.nanmax(Q[j,:]))\n",
    "    Q = Q2.copy()"
   ]
  },
  {
   "cell_type": "code",
   "execution_count": 9,
   "metadata": {},
   "outputs": [
    {
     "data": {
      "text/plain": [
       "array([[ 1.80682035e-33,  5.07768405e-07,             nan,\n",
       "         1.62006436e-22,             nan,             nan,\n",
       "                    nan,             nan,             nan],\n",
       "       [ 6.33339257e-22,  1.32704276e-29,  3.72937122e-03,\n",
       "                    nan, -9.99999999e-01,             nan,\n",
       "                    nan,             nan,             nan],\n",
       "       [            nan,  4.65164268e-18,  3.41389987e-03,\n",
       "                    nan,             nan,  2.21717671e-01,\n",
       "                    nan,             nan,             nan],\n",
       "       [ 4.24433647e-12,             nan,             nan,\n",
       "         1.62006436e-22, -1.00000000e+00,             nan,\n",
       "                    nan,             nan,             nan],\n",
       "       [            nan,  5.39676469e-06,             nan,\n",
       "         5.29395854e-27, -9.99999999e-01,  7.60160749e-11,\n",
       "                    nan,  8.30759267e-86,             nan],\n",
       "       [            nan,             nan,  3.38610938e-03,\n",
       "                    nan, -9.99999999e-01,  9.85050000e-01,\n",
       "                    nan,             nan,  1.99157698e+00],\n",
       "       [            nan,             nan,             nan,\n",
       "         1.62006436e-22,             nan,             nan,\n",
       "         1.08355500e-01,  9.86634946e-01,             nan],\n",
       "       [            nan,             nan,             nan,\n",
       "                    nan, -9.99999999e-01,             nan,\n",
       "         1.52374922e-02,  2.18900000e-01,  1.99157698e+00],\n",
       "       [            nan,             nan,             nan,\n",
       "                    nan,             nan,  9.85050000e-01,\n",
       "                    nan,  2.46484387e-01,  1.99157698e+00]])"
      ]
     },
     "execution_count": 9,
     "metadata": {},
     "output_type": "execute_result"
    }
   ],
   "source": [
    "Q"
   ]
  },
  {
   "cell_type": "code",
   "execution_count": 12,
   "metadata": {},
   "outputs": [
    {
     "name": "stdout",
     "output_type": "stream",
     "text": [
      "4\n",
      "1\n",
      "2\n",
      "5\n",
      "8\n",
      "8\n",
      "8\n",
      "8\n",
      "8\n",
      "8\n"
     ]
    }
   ],
   "source": [
    "i = 4\n",
    "NUMTRAS = 10\n",
    "for k in range(NUMTRAS):\n",
    "    print(i)\n",
    "    idx = np.isnan(Q[i,:])\n",
    "    allowedStates = np.arange(9)[~idx]\n",
    "    j = Q[i,allowedStates].argmax()\n",
    "    j = allowedStates[j]\n",
    "    i = j"
   ]
  },
  {
   "cell_type": "code",
   "execution_count": null,
   "metadata": {},
   "outputs": [],
   "source": []
  }
 ],
 "metadata": {
  "kernelspec": {
   "display_name": "Python 3",
   "language": "python",
   "name": "python3"
  },
  "language_info": {
   "codemirror_mode": {
    "name": "ipython",
    "version": 3
   },
   "file_extension": ".py",
   "mimetype": "text/x-python",
   "name": "python",
   "nbconvert_exporter": "python",
   "pygments_lexer": "ipython3",
   "version": "3.7.6"
  }
 },
 "nbformat": 4,
 "nbformat_minor": 4
}
